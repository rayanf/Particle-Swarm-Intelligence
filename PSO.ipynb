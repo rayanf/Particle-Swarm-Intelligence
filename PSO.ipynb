{
 "cells": [
  {
   "cell_type": "code",
   "execution_count": 1,
   "id": "certain-paris",
   "metadata": {
    "ExecuteTime": {
     "end_time": "2021-12-23T15:55:14.182726Z",
     "start_time": "2021-12-23T15:55:13.308104Z"
    }
   },
   "outputs": [],
   "source": [
    "import math\n",
    "import numpy as np\n",
    "import matplotlib.pyplot as plt\n",
    "from matplotlib.animation import FuncAnimation\n",
    "import random\n",
    "from IPython import display\n"
   ]
  },
  {
   "cell_type": "code",
   "execution_count": 2,
   "id": "accredited-diploma",
   "metadata": {
    "ExecuteTime": {
     "end_time": "2021-12-23T15:55:17.234666Z",
     "start_time": "2021-12-23T15:55:17.221084Z"
    }
   },
   "outputs": [],
   "source": [
    "class Particle():\n",
    "    def __init__(self, x, y, v_x, v_y,cost):\n",
    "        self.bestCost_x = x\n",
    "        self.bestCost_y = y\n",
    "        self.bestpersonalcost = cost\n",
    "        self.x = x\n",
    "        self.y = y\n",
    "        self.v_x = v_x\n",
    "        self.v_y = v_y\n",
    "        self.r_nei = None\n",
    "        self.l_nei = None"
   ]
  },
  {
   "cell_type": "code",
   "execution_count": 24,
   "id": "funky-ambassador",
   "metadata": {
    "ExecuteTime": {
     "end_time": "2021-12-23T16:12:50.340691Z",
     "start_time": "2021-12-23T16:12:50.309299Z"
    }
   },
   "outputs": [],
   "source": [
    "class Optimizer():\n",
    "    def __init__(self, function, numberOfParticles, w, c1, c2, rangee, optima,gif_n, max_v=5):\n",
    "        self.optima = optima\n",
    "        self.n = numberOfParticles\n",
    "        self.w = w\n",
    "        self.c1 = c1\n",
    "        self.c2 = c2\n",
    "        self.particles = []\n",
    "        self.rangee = rangee\n",
    "        self.function = function\n",
    "        self.max_v = max_v\n",
    "        self.globalCost_x = 0.1\n",
    "        self.globalCost_y = 0\n",
    "        self.max_v = max_v\n",
    "        self.history =[]\n",
    "        self.bestglobalcost = self.function(self.globalCost_x ,self.globalCost_y)\n",
    "        self.gif_n = gif_n    \n",
    "        \n",
    "    def move_particle(self,particle):\n",
    "        if (particle.x + particle.v_x <= self.rangee) and (particle.x + particle.v_x >= -self.rangee):\n",
    "            particle.x += particle.v_x\n",
    "        else:\n",
    "            if particle.x > 0:\n",
    "                particle.x = self.rangee\n",
    "            else:\n",
    "                particle.x = -self.rangee\n",
    "\n",
    "        if (particle.y + particle.v_y <= self.rangee) and (particle.y + particle.v_y >= -self.rangee):\n",
    "            particle.y += particle.v_y\n",
    "        else:\n",
    "            if particle.y > 0:\n",
    "                particle.y = self.rangee\n",
    "            else:\n",
    "                particle.y = -self.rangee\n",
    "            \n",
    "        r1 = random.uniform(0, 2);\n",
    "        r2 = random.uniform(0, 2);\n",
    "#         if particle.v_x < self.max_v and particle.v_x > self.max_v:\n",
    "        particle.v_x = (particle.v_x * self.w) + ((particle.bestCost_x-particle.x) * self.c1 * r1) + ((self.globalCost_x-particle.x) * self.c2 * r2)\n",
    "#         else:\n",
    "#             particle.v_x *= self.w\n",
    "        \n",
    "#         if particle.v_y < self.max_v and particle.v_y > self.max_v:\n",
    "        particle.v_y = (particle.v_y * self.w) + ((particle.bestCost_y-particle.y) * self.c1 * r1) + ((self.globalCost_y-particle.y) * self.c2 * r2)\n",
    "#         else:\n",
    "#             particle.v_y *= self.w\n",
    "        \n",
    "    def init_particles(self):\n",
    "        for i in range(self.n):\n",
    "            x = (random.random()-0.5) * 2 * self.rangee\n",
    "            y = (random.random()-0.5) * 2 * self.rangee\n",
    "            v_x = random.random() * self.max_v\n",
    "            v_y = random.random() * self.max_v\n",
    "            \n",
    "            cost = self.function(x,y)\n",
    "            p = Particle(x, y, v_x, v_y,cost)\n",
    "            self.particles.append(p)\n",
    "            \n",
    "    def updateBests(self, p):\n",
    "        cost = self.function(p.x,p.y)\n",
    "        \n",
    "        \n",
    "        if self.optima == 'max':\n",
    "            if cost > p.bestpersonalcost:\n",
    "                p.bestCost_x = p.x\n",
    "                p.bestCost_y = p.y\n",
    "                p.bestpersonalcost = cost\n",
    "                \n",
    "            if cost > self.bestglobalcost:\n",
    "                self.globalCost_x = p.x\n",
    "                self.glovalCost_y = p.y\n",
    "                self.bestglobalcost = cost\n",
    "                \n",
    "        elif self.optima == 'min':\n",
    "            if cost < p.bestpersonalcost:\n",
    "                p.bestCost_x = p.x\n",
    "                p.bestCost_y = p.y\n",
    "                p.bestpersonalcost = cost\n",
    "\n",
    "            if cost < self.bestglobalcost:\n",
    "                self.globalCost_x = p.x\n",
    "                self.glovalCost_y = p.y\n",
    "                self.bestglobalcost = cost\n",
    "\n",
    "    def train(self,itteration=500):\n",
    "        self.init_particles()\n",
    "        self.itteration = itteration\n",
    "        for itter in range(itteration):\n",
    "            itter_his = []\n",
    "#             print(self.bestglobalcost)\n",
    "            for p in self.particles:\n",
    "                self.updateBests(p)\n",
    "                self.move_particle(p)\n",
    "                tempp = [p.x, p.y]\n",
    "                itter_his.append(tempp)\n",
    "            self.history.append(itter_his)\n",
    "        \n",
    "        return self.bestglobalcost\n",
    "    def fitness(self,p):\n",
    "        x = p.x\n",
    "        y = p.y\n",
    "        return self.function(x,y)\n",
    "    \n",
    "    def findbest(self):\n",
    "        for itter in self.history:\n",
    "            for x,y in itter:\n",
    "                cost = self.function(x,y)\n",
    "                if cost == self.bestglobalcost:\n",
    "                    xx,yy = x,y\n",
    "        return xx,yy\n",
    "    \n",
    "    def visualization(self):\n",
    "        fig, ax = plt.subplots(figsize=(8,6))\n",
    "        ax.set_xlim([-self.rangee,self.rangee])\n",
    "        ax.set_ylim([-self.rangee,self.rangee])\n",
    "        ax.set_xlabel(0)\n",
    "\n",
    "        X = []\n",
    "        Y = []\n",
    "        hist = self.history[0]\n",
    "        for i in hist:\n",
    "            X.append(i[0])\n",
    "            Y.append(i[1])\n",
    "\n",
    "        ax.scatter(X, Y, marker=\"o\")\n",
    "\n",
    "        def animate(itter):\n",
    "            label = 'timestep {0}'.format(itter)\n",
    "            ax.set_xlabel(label)\n",
    "            ax.set_xlim([-self.rangee,self.rangee])\n",
    "            ax.set_ylim([-self.rangee,self.rangee])\n",
    "            X = []\n",
    "            Y = []\n",
    "            hist = self.history[itter]\n",
    "            for i in hist:\n",
    "                X.append(i[0])\n",
    "                Y.append(i[1])\n",
    "            ax.clear()\n",
    "            ax.scatter(X, Y, marker=\"o\")\n",
    "\n",
    "\n",
    "        n = self.n\n",
    "        anim = FuncAnimation(fig, animate, frames=list(range(1,self.itteration)), interval=500, blit=False, repeat=True)\n",
    "        anim.save(\"PSO{}.gif\".format(self.gif_n),dpi=120, writer=\"imagemagick\")\n",
    "        \n",
    "        \n"
   ]
  },
  {
   "cell_type": "code",
   "execution_count": 17,
   "id": "included-premiere",
   "metadata": {
    "ExecuteTime": {
     "end_time": "2021-12-23T16:07:05.482622Z",
     "start_time": "2021-12-23T16:07:05.467455Z"
    }
   },
   "outputs": [],
   "source": [
    "def f(x,y):\n",
    "    tmp = math.exp(abs(1-((math.sqrt((x**2 + y**2)))/math.pi)))\n",
    "    return abs(math.sin(x) * math.cos(y) * tmp)\n",
    "    \n",
    "def g(x,y):\n",
    "    temp = x * math.sin(math.pi * math.cos(x) * math.tan(y))\n",
    "    temp *= (math.sin(y/x) / (1+math.cos(y/x)))\n",
    "    return temp"
   ]
  },
  {
   "cell_type": "code",
   "execution_count": 280,
   "id": "athletic-disorder",
   "metadata": {
    "ExecuteTime": {
     "end_time": "2021-12-23T01:10:36.492837Z",
     "start_time": "2021-12-23T01:10:36.325263Z"
    },
    "scrolled": true
   },
   "outputs": [
    {
     "data": {
      "text/plain": [
       "19.20735850679176"
      ]
     },
     "execution_count": 280,
     "metadata": {},
     "output_type": "execute_result"
    }
   ],
   "source": [
    "solution = Optimizer(function=f, numberOfParticles=1000, w=0.8, c1=0.1, c2=0.1, \n",
    "                     rangee=10,optima='max', max_v=5)\n",
    "solution.train(50)"
   ]
  },
  {
   "cell_type": "code",
   "execution_count": 22,
   "id": "chubby-ambassador",
   "metadata": {
    "ExecuteTime": {
     "end_time": "2021-12-23T16:11:03.022826Z",
     "start_time": "2021-12-23T16:11:03.009822Z"
    }
   },
   "outputs": [
    {
     "data": {
      "text/plain": [
       "19.20735850679176"
      ]
     },
     "execution_count": 22,
     "metadata": {},
     "output_type": "execute_result"
    }
   ],
   "source": [
    "f(8.063696601615975,9.67079655682449)"
   ]
  },
  {
   "cell_type": "code",
   "execution_count": 341,
   "id": "equipped-fireplace",
   "metadata": {
    "ExecuteTime": {
     "end_time": "2021-12-23T01:53:34.224472Z",
     "start_time": "2021-12-23T01:53:26.859620Z"
    }
   },
   "outputs": [
    {
     "name": "stderr",
     "output_type": "stream",
     "text": [
      "MovieWriter imagemagick unavailable; using Pillow instead.\n"
     ]
    },
    {
     "data": {
      "image/png": "[encoded data removed]",
      "text/plain": [
       "<Figure size 576x432 with 1 Axes>"
      ]
     },
     "metadata": {
      "needs_background": "light"
     },
     "output_type": "display_data"
    }
   ],
   "source": [
    "solution.visualization()"
   ]
  },
  {
   "cell_type": "code",
   "execution_count": 15,
   "id": "classical-imagination",
   "metadata": {
    "ExecuteTime": {
     "end_time": "2021-12-23T16:05:51.374609Z",
     "start_time": "2021-12-23T16:05:23.062292Z"
    }
   },
   "outputs": [
    {
     "name": "stderr",
     "output_type": "stream",
     "text": [
      "MovieWriter imagemagick unavailable; using Pillow instead.\n"
     ]
    },
    {
     "name": "stdout",
     "output_type": "stream",
     "text": [
      "-11271103.34685171\n"
     ]
    },
    {
     "data": {
      "image/png": "[encoded data removed]",
      "text/plain": [
       "<Figure size 576x432 with 1 Axes>"
      ]
     },
     "metadata": {
      "needs_background": "light"
     },
     "output_type": "display_data"
    }
   ],
   "source": [
    "solution2 = Optimizer(function=g, numberOfParticles=1000, w=0.8 ,c1=0.2, c2=0.1, \n",
    "                     rangee=100,optima='min',gif_n=3, max_v=5)\n",
    "print(solution2.train(5000))\n",
    "solution2.visualization()"
   ]
  },
  {
   "cell_type": "code",
   "execution_count": 19,
   "id": "civil-ultimate",
   "metadata": {
    "ExecuteTime": {
     "end_time": "2021-12-23T16:08:14.915075Z",
     "start_time": "2021-12-23T16:08:10.918776Z"
    }
   },
   "outputs": [
    {
     "data": {
      "text/plain": [
       "(-25.621495693364295, -80.49223412253795)"
      ]
     },
     "execution_count": 19,
     "metadata": {},
     "output_type": "execute_result"
    }
   ],
   "source": [
    "print(solution2.findbest())"
   ]
  },
  {
   "cell_type": "code",
   "execution_count": 25,
   "id": "polyphonic-scope",
   "metadata": {
    "ExecuteTime": {
     "end_time": "2021-12-23T16:13:00.986262Z",
     "start_time": "2021-12-23T16:12:54.355588Z"
    }
   },
   "outputs": [
    {
     "name": "stderr",
     "output_type": "stream",
     "text": [
      "MovieWriter imagemagick unavailable; using Pillow instead.\n"
     ]
    },
    {
     "name": "stdout",
     "output_type": "stream",
     "text": [
      "19.19443742253997\n"
     ]
    },
    {
     "data": {
      "image/png": "[encoded data removed]",
      "text/plain": [
       "<Figure size 576x432 with 1 Axes>"
      ]
     },
     "metadata": {
      "needs_background": "light"
     },
     "output_type": "display_data"
    }
   ],
   "source": [
    "solution1 = Optimizer(function=f, numberOfParticles=1000, w=0.5, c1=0.3, c2=0.85, \n",
    "                     rangee=10,optima='max', gif_n=1, max_v=5)\n",
    "print(solution1.train(50))\n",
    "solution1.visualization()"
   ]
  },
  {
   "cell_type": "code",
   "execution_count": null,
   "id": "looking-continent",
   "metadata": {},
   "outputs": [],
   "source": []
  }
 ],
 "metadata": {
  "kernelspec": {
   "display_name": "Python 3",
   "language": "python",
   "name": "python3"
  },
  "language_info": {
   "codemirror_mode": {
    "name": "ipython",
    "version": 3
   },
   "file_extension": ".py",
   "mimetype": "text/x-python",
   "name": "python",
   "nbconvert_exporter": "python",
   "pygments_lexer": "ipython3",
   "version": "3.8.6"
  },
  "toc": {
   "base_numbering": 1,
   "nav_menu": {},
   "number_sections": true,
   "sideBar": true,
   "skip_h1_title": false,
   "title_cell": "Table of Contents",
   "title_sidebar": "Contents",
   "toc_cell": false,
   "toc_position": {},
   "toc_section_display": true,
   "toc_window_display": false
  },
  "varInspector": {
   "cols": {
    "lenName": 16,
    "lenType": 16,
    "lenVar": 40
   },
   "kernels_config": {
    "python": {
     "delete_cmd_postfix": "",
     "delete_cmd_prefix": "del ",
     "library": "var_list.py",
     "varRefreshCmd": "print(var_dic_list())"
    },
    "r": {
     "delete_cmd_postfix": ") ",
     "delete_cmd_prefix": "rm(",
     "library": "var_list.r",
     "varRefreshCmd": "cat(var_dic_list()) "
    }
   },
   "types_to_exclude": [
    "module",
    "function",
    "builtin_function_or_method",
    "instance",
    "_Feature"
   ],
   "window_display": false
  }
 },
 "nbformat": 4,
 "nbformat_minor": 5
}
