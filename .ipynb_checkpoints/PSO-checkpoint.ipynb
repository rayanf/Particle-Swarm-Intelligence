{
 "cells": [
  {
   "cell_type": "code",
   "execution_count": 12,
   "id": "certain-paris",
   "metadata": {
    "ExecuteTime": {
     "end_time": "2021-12-22T02:29:50.595659Z",
     "start_time": "2021-12-22T02:29:50.580660Z"
    }
   },
   "outputs": [],
   "source": [
    "import math\n",
    "import numpy as np"
   ]
  },
  {
   "cell_type": "code",
   "execution_count": 3,
   "id": "accredited-diploma",
   "metadata": {
    "ExecuteTime": {
     "end_time": "2021-12-22T02:18:05.371884Z",
     "start_time": "2021-12-22T02:18:05.358879Z"
    }
   },
   "outputs": [],
   "source": [
    "class Particle():\n",
    "    def __init__(self, x, y, v_x, v_y):\n",
    "        self.bestScore = None\n",
    "        self.x = x\n",
    "        self.y = y\n",
    "        self.v_x = v_x\n",
    "        self.v_y = v_y\n",
    "        self.r_nei\n",
    "        self.l_nei"
   ]
  },
  {
   "cell_type": "code",
   "execution_count": 5,
   "id": "meaningful-double",
   "metadata": {
    "ExecuteTime": {
     "end_time": "2021-12-22T02:21:40.964612Z",
     "start_time": "2021-12-22T02:21:40.957497Z"
    }
   },
   "outputs": [],
   "source": [
    "class Optimizer():\n",
    "    def __init__(self, umberOfParticles, w, c1, c2, range):\n",
    "        self.n = umberOfParticles\n",
    "        self.w = w\n",
    "        self.c1 = c1\n",
    "        self.c2 = c2\n",
    "        self.particles = []\n",
    "        self.range = range\n",
    "        \n",
    "    def move_particle(self):\n",
    "        pass\n",
    "    \n",
    "    def init_particles(self):\n",
    "        pass\n",
    "    \n",
    "    def train(self):\n",
    "        pass\n",
    "    \n",
    "    \n",
    "    "
   ]
  },
  {
   "cell_type": "code",
   "execution_count": 7,
   "id": "expected-guitar",
   "metadata": {
    "ExecuteTime": {
     "end_time": "2021-12-22T02:26:02.391176Z",
     "start_time": "2021-12-22T02:26:02.380183Z"
    }
   },
   "outputs": [],
   "source": [
    "def f(x,y):\n",
    "    tmp = math.exp(abs(1-((math.sqrt((x**2 + y**2)))/math.pi)))\n",
    "    return abs(math.sin(x) * math.cos(y) * tmp)\n",
    "    "
   ]
  },
  {
   "cell_type": "code",
   "execution_count": 8,
   "id": "underlying-rally",
   "metadata": {
    "ExecuteTime": {
     "end_time": "2021-12-22T02:29:03.673795Z",
     "start_time": "2021-12-22T02:29:03.667794Z"
    }
   },
   "outputs": [],
   "source": [
    "def g(x,y):\n",
    "    temp = math.pi * math.sin(math.sin(x) * math.tan(y))\n",
    "    temp *= (math.sin(y/x) / (1+math.cos(y/x)))"
   ]
  },
  {
   "cell_type": "code",
   "execution_count": null,
   "id": "skilled-helping",
   "metadata": {
    "ExecuteTime": {
     "end_time": "2021-12-22T02:30:02.301465Z",
     "start_time": "2021-12-22T02:30:02.287479Z"
    }
   },
   "outputs": [],
   "source": []
  },
  {
   "cell_type": "code",
   "execution_count": null,
   "id": "french-visit",
   "metadata": {},
   "outputs": [],
   "source": []
  }
 ],
 "metadata": {
  "kernelspec": {
   "display_name": "Python 3",
   "language": "python",
   "name": "python3"
  },
  "language_info": {
   "codemirror_mode": {
    "name": "ipython",
    "version": 3
   },
   "file_extension": ".py",
   "mimetype": "text/x-python",
   "name": "python",
   "nbconvert_exporter": "python",
   "pygments_lexer": "ipython3",
   "version": "3.8.6"
  },
  "toc": {
   "base_numbering": 1,
   "nav_menu": {},
   "number_sections": true,
   "sideBar": true,
   "skip_h1_title": false,
   "title_cell": "Table of Contents",
   "title_sidebar": "Contents",
   "toc_cell": false,
   "toc_position": {},
   "toc_section_display": true,
   "toc_window_display": false
  },
  "varInspector": {
   "cols": {
    "lenName": 16,
    "lenType": 16,
    "lenVar": 40
   },
   "kernels_config": {
    "python": {
     "delete_cmd_postfix": "",
     "delete_cmd_prefix": "del ",
     "library": "var_list.py",
     "varRefreshCmd": "print(var_dic_list())"
    },
    "r": {
     "delete_cmd_postfix": ") ",
     "delete_cmd_prefix": "rm(",
     "library": "var_list.r",
     "varRefreshCmd": "cat(var_dic_list()) "
    }
   },
   "types_to_exclude": [
    "module",
    "function",
    "builtin_function_or_method",
    "instance",
    "_Feature"
   ],
   "window_display": true
  }
 },
 "nbformat": 4,
 "nbformat_minor": 5
}
